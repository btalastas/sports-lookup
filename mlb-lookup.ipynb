{
 "cells": [
  {
   "cell_type": "code",
   "execution_count": 1,
   "metadata": {},
   "outputs": [],
   "source": [
    "import requests\n",
    "import datetime\n",
    "import statsapi\n",
    "import pandas as pd"
   ]
  },
  {
   "cell_type": "code",
   "execution_count": 2,
   "metadata": {},
   "outputs": [],
   "source": [
    "# Using mlb-statsapi to get mlb schedule up to the all-star break\n",
    "# Create dataframe from list genereated from api call\n",
    "# Creating mapping of mlb team name -> team id\n",
    "\n",
    "sched = statsapi.schedule(start_date='04/01/2024',end_date='07/16/2024')\n",
    "sched_df = pd.DataFrame(sched)\n",
    "teams = sched_df[['away_id', 'away_name']]\n",
    "teams = teams.drop_duplicates(subset=['away_id'], keep='first')\n",
    "teams = teams.sort_values(by='away_name', ascending=True)\n",
    "teams = teams.rename(columns={'away_name': 'team', 'away_id': 'id'})\n",
    "\n"
   ]
  },
  {
   "cell_type": "code",
   "execution_count": 3,
   "metadata": {},
   "outputs": [
    {
     "name": "stdout",
     "output_type": "stream",
     "text": [
      "Date: 2024-04-08 | Chicago White Sox () @ Cleveland Guardians (Triston McKenzie)\n",
      "\n",
      "Date: 2024-04-08 | Miami Marlins (Jesús Luzardo) @ New York Yankees (Nestor Cortes)\n",
      "\n",
      "Date: 2024-04-08 | Detroit Tigers (Reese Olson) @ Pittsburgh Pirates (Mitch Keller)\n",
      "\n",
      "Date: 2024-04-08 | Milwaukee Brewers (Aaron Ashby) @ Cincinnati Reds (Graham Ashcraft)\n",
      "\n",
      "Date: 2024-04-08 | Seattle Mariners (Luis Castillo) @ Toronto Blue Jays (José Berríos)\n",
      "\n",
      "Date: 2024-04-08 | New York Mets (Julio Teheran) @ Atlanta Braves (Charlie Morton)\n",
      "\n",
      "Date: 2024-04-08 | Los Angeles Dodgers (James Paxton) @ Minnesota Twins (Bailey Ober)\n",
      "\n",
      "Date: 2024-04-08 | Philadelphia Phillies (Spencer Turnbull) @ St. Louis Cardinals (Miles Mikolas)\n",
      "\n",
      "Date: 2024-04-08 | Houston Astros (Framber Valdez) @ Texas Rangers (Andrew Heaney)\n",
      "\n",
      "Date: 2024-04-08 | Arizona Diamondbacks (Zac Gallen) @ Colorado Rockies (Kyle Freeland)\n",
      "\n",
      "Date: 2024-04-08 | Tampa Bay Rays (Zach Eflin) @ Los Angeles Angels (Tyler Anderson)\n",
      "\n",
      "Date: 2024-04-08 | Chicago Cubs (Javier Assad) @ San Diego Padres (Yu Darvish)\n",
      "\n",
      "Date: 2024-04-08 | Washington Nationals (Trevor Williams) @ San Francisco Giants (Blake Snell)\n",
      "\n"
     ]
    }
   ],
   "source": [
    "# MLB Schedule for current date\n",
    "\n",
    "def print_schedule(schedule):\n",
    "    \"\"\"Prints the MLB schedule.\n",
    "\n",
    "    Args:\n",
    "        schedule (list): MLB schedule from api call.\n",
    "    \"\"\"\n",
    "    for games in schedule:\n",
    "        print(f\"Date: {games['game_date']} | {games['away_name']} ({games['away_probable_pitcher']}) @ {games[\"home_name\"]} ({games['home_probable_pitcher']})\\n\")\n",
    "\n",
    "# {get_pitcher_stats(games['away_probable_pitcher'])}\n",
    "\n",
    "\n",
    "today = datetime.date.today().strftime('%m/%d/%Y')\n",
    "mlb_schedule = statsapi.schedule(start_date=today, end_date=today)\n",
    "\n",
    "print_schedule(mlb_schedule)"
   ]
  },
  {
   "cell_type": "code",
   "execution_count": 7,
   "metadata": {},
   "outputs": [
    {
     "name": "stdout",
     "output_type": "stream",
     "text": [
      "dict_keys(['name', 'gamesPlayed', 'gamesStarted', 'groundOuts', 'airOuts', 'runs', 'doubles', 'triples', 'homeRuns', 'strikeOuts', 'baseOnBalls', 'intentionalWalks', 'hits', 'hitByPitch', 'avg', 'atBats', 'obp', 'slg', 'ops', 'caughtStealing', 'stolenBases', 'stolenBasePercentage', 'groundIntoDoublePlay', 'numberOfPitches', 'era', 'inningsPitched', 'wins', 'losses', 'saves', 'saveOpportunities', 'holds', 'blownSaves', 'earnedRuns', 'whip', 'battersFaced', 'outs', 'gamesPitched', 'completeGames', 'shutouts', 'strikes', 'strikePercentage', 'hitBatsmen', 'balks', 'wildPitches', 'pickoffs', 'totalBases', 'groundOutsToAirouts', 'winPercentage', 'pitchesPerInning', 'gamesFinished', 'strikeoutWalkRatio', 'strikeoutsPer9Inn', 'walksPer9Inn', 'hitsPer9Inn', 'runsScoredPer9', 'homeRunsPer9', 'inheritedRunners', 'inheritedRunnersScored', 'catchersInterference', 'sacBunts', 'sacFlies'])\n"
     ]
    }
   ],
   "source": [
    "import re\n",
    "\n",
    "# Store current pitcher into dictionary\n",
    "\n",
    "def get_pitcher_stats(name):\n",
    "    \"\"\"Gets pitcher stats for current year.\n",
    "\n",
    "    Args:\n",
    "        name (str): Pitcher full name.\n",
    "\n",
    "    Returns:\n",
    "        str: String of all pitcher stats.\n",
    "    \"\"\"\n",
    "    pitcher = statsapi.player_stats(next(x['id'] for x in statsapi.get('sports_players', {'season':2024})['people'] if x['fullName']==name), 'pitching')\n",
    "    \n",
    "    store_pitcher_stats(name,pitcher)\n",
    "    \n",
    "    return pitcher\n",
    "\n",
    "\n",
    "def store_pitcher_stats(name, pitcher):\n",
    "    \n",
    "    current_pitcher = {name: name}\n",
    "    \n",
    "    stats_pattern = r\"(\\w+):\\s([^\\n]+)\"\n",
    "    stats = re.findall(stats_pattern, pitcher)\n",
    "    \n",
    "    current_pitcher.update(stats)\n",
    "    \n",
    "    return current_pitcher\n",
    "\n",
    "pitchers = []\n",
    "\n",
    "\n",
    "pitcher = statsapi.player_stats(next(x['id'] for x in statsapi.get('sports_players', {'season':2024})['people'] if x['fullName']=='Tanner Houck'), 'pitching')\n",
    "current_pitcher = {'name': 'Tanner Houck'}\n",
    "\n",
    "stats_pattern = r\"(\\w+):\\s([^\\n]+)\"\n",
    "stats = re.findall(stats_pattern, pitcher)\n",
    "\n",
    "current_pitcher.update(stats)\n",
    "\n",
    "# print(pitcher)\n",
    "print(current_pitcher.keys())\n"
   ]
  },
  {
   "cell_type": "code",
   "execution_count": null,
   "metadata": {},
   "outputs": [],
   "source": []
  }
 ],
 "metadata": {
  "kernelspec": {
   "display_name": "cs482",
   "language": "python",
   "name": "python3"
  },
  "language_info": {
   "codemirror_mode": {
    "name": "ipython",
    "version": 3
   },
   "file_extension": ".py",
   "mimetype": "text/x-python",
   "name": "python",
   "nbconvert_exporter": "python",
   "pygments_lexer": "ipython3",
   "version": "3.12.2"
  }
 },
 "nbformat": 4,
 "nbformat_minor": 2
}

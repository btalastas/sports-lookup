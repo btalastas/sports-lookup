{
 "cells": [
  {
   "cell_type": "code",
   "execution_count": 14,
   "metadata": {},
   "outputs": [],
   "source": [
    "import requests\n",
    "import datetime\n",
    "import statsapi\n",
    "import pandas as pd"
   ]
  },
  {
   "cell_type": "code",
   "execution_count": 7,
   "metadata": {},
   "outputs": [],
   "source": [
    "# Using mlb-statsapi to get mlb schedule up to the all-star break\n",
    "# Create dataframe from list genereated from api call\n",
    "# Creating mapping of mlb team name -> team id\n",
    "\n",
    "sched = statsapi.schedule(start_date='04/01/2024',end_date='07/16/2024')\n",
    "sched_df = pd.DataFrame(sched)\n",
    "teams = sched_df[['away_id', 'away_name']]\n",
    "teams = teams.drop_duplicates(subset=['away_id'], keep='first')\n",
    "teams = teams.sort_values(by='away_name', ascending=True)\n",
    "teams = teams.rename(columns={'away_name': 'team', 'away_id': 'id'})\n",
    "\n"
   ]
  },
  {
   "cell_type": "code",
   "execution_count": 40,
   "metadata": {},
   "outputs": [
    {
     "name": "stdout",
     "output_type": "stream",
     "text": [
      "Date: 2024-04-07 | Baltimore Orioles (Dean Kremer) @ Pittsburgh Pirates (Marco Gonzales)\n",
      "\n",
      "Date: 2024-04-07 | Philadelphia Phillies (Cristopher Sánchez) @ Washington Nationals (MacKenzie Gore)\n",
      "\n",
      "Date: 2024-04-07 | Arizona Diamondbacks (Ryne Nelson) @ Atlanta Braves (Chris Sale)\n",
      "\n",
      "Date: 2024-04-07 | Toronto Blue Jays (Bowden Francis) @ New York Yankees (Luis Gil)\n",
      "\n",
      "Date: 2024-04-07 | New York Mets (Sean Manaea) @ Cincinnati Reds (Andrew Abbott)\n",
      "\n",
      "Date: 2024-04-07 | Oakland Athletics (Joe Boyle) @ Detroit Tigers (Jack Flaherty)\n",
      "\n",
      "Date: 2024-04-07 | Chicago White Sox (Garrett Crochet) @ Kansas City Royals (Alec Marsh)\n",
      "\n",
      "Date: 2024-04-07 | Seattle Mariners (Emerson Hancock) @ Milwaukee Brewers (Colin Rea)\n",
      "\n",
      "Date: 2024-04-07 | Miami Marlins (Max Meyer) @ St. Louis Cardinals (Kyle Gibson)\n",
      "\n",
      "Date: 2024-04-07 | Los Angeles Dodgers (Gavin Stone) @ Chicago Cubs (Shota Imanaga)\n",
      "\n",
      "Date: 2024-04-07 | Tampa Bay Rays (Ryan Pepiot) @ Colorado Rockies (Dakota Hudson)\n",
      "\n",
      "Date: 2024-04-07 | San Diego Padres (Matt Waldron) @ San Francisco Giants (Logan Webb)\n",
      "\n",
      "Date: 2024-04-07 | Boston Red Sox (Tanner Houck) @ Los Angeles Angels (Chase Silseth)\n",
      "\n",
      "Date: 2024-04-07 | Houston Astros (Ronel Blanco) @ Texas Rangers (Dane Dunning)\n",
      "\n",
      "Date: 2024-04-07 | Cleveland Guardians (Triston McKenzie) @ Minnesota Twins (Bailey Ober)\n",
      "\n"
     ]
    }
   ],
   "source": [
    "import re\n",
    "# MLB Schedule for current date\n",
    "\n",
    "def get_pitcher_stats(name):\n",
    "    return statsapi.player_stats(next(x['id'] for x in statsapi.get('sports_players', {'season':2024})['people'] if x['fullName']==name), 'pitching')\n",
    "\n",
    "def print_schedule(schedule):    \n",
    "    for games in schedule:\n",
    "        print(f\"Date: {games['game_date']} | {games['away_name']} ({games['away_probable_pitcher']}) @ {games[\"home_name\"]} ({games['home_probable_pitcher']})\\n\")\n",
    "\n",
    "# {get_pitcher_stats(games['away_probable_pitcher'])}\n",
    "\n",
    "\n",
    "today = datetime.date.today().strftime('%m/%d/%Y')\n",
    "mlb_schedule = statsapi.schedule(start_date=today, end_date=today)\n",
    "\n",
    "print_schedule(mlb_schedule)"
   ]
  },
  {
   "cell_type": "code",
   "execution_count": 37,
   "metadata": {},
   "outputs": [
    {
     "name": "stdout",
     "output_type": "stream",
     "text": [
      "Tanner Houck, P (2020-)\n",
      "\n",
      "Season Pitching\n",
      "gamesPlayed: 2\n",
      "gamesStarted: 2\n",
      "groundOuts: 12\n",
      "airOuts: 6\n",
      "runs: 0\n",
      "doubles: 2\n",
      "triples: 0\n",
      "homeRuns: 0\n",
      "strikeOuts: 17\n",
      "baseOnBalls: 2\n",
      "intentionalWalks: 0\n",
      "hits: 7\n",
      "hitByPitch: 1\n",
      "avg: .167\n",
      "atBats: 42\n",
      "obp: .222\n",
      "slg: .214\n",
      "ops: .436\n",
      "caughtStealing: 0\n",
      "stolenBases: 1\n",
      "stolenBasePercentage: 1.000\n",
      "groundIntoDoublePlay: 1\n",
      "numberOfPitches: 182\n",
      "era: 0.00\n",
      "inningsPitched: 12.0\n",
      "wins: 2\n",
      "losses: 0\n",
      "saves: 0\n",
      "saveOpportunities: 0\n",
      "holds: 0\n",
      "blownSaves: 0\n",
      "earnedRuns: 0\n",
      "whip: 0.75\n",
      "battersFaced: 45\n",
      "outs: 36\n",
      "gamesPitched: 2\n",
      "completeGames: 0\n",
      "shutouts: 0\n",
      "strikes: 120\n",
      "strikePercentage: .660\n",
      "hitBatsmen: 1\n",
      "balks: 0\n",
      "wildPitches: 0\n",
      "pickoffs: 0\n",
      "totalBases: 9\n",
      "groundOutsToAirouts: 2.00\n",
      "winPercentage: 1.000\n",
      "pitchesPerInning: 15.17\n",
      "gamesFinished: 0\n",
      "strikeoutWalkRatio: 8.50\n",
      "strikeoutsPer9Inn: 12.75\n",
      "walksPer9Inn: 1.50\n",
      "hitsPer9Inn: 5.25\n",
      "runsScoredPer9: 0.00\n",
      "homeRunsPer9: 0.00\n",
      "inheritedRunners: 0\n",
      "inheritedRunnersScored: 0\n",
      "catchersInterference: 0\n",
      "sacBunts: 0\n",
      "sacFlies: 0\n",
      "\n",
      "\n",
      "['Tanner Houck, P (2020-)', '', 'Season Pitching', 'gamesPlayed: 2', 'gamesStarted: 2', 'groundOuts: 12', 'airOuts: 6', 'runs: 0', 'doubles: 2', 'triples: 0', 'homeRuns: 0', 'strikeOuts: 17', 'baseOnBalls: 2', 'intentionalWalks: 0', 'hits: 7', 'hitByPitch: 1', 'avg: .167', 'atBats: 42', 'obp: .222', 'slg: .214', 'ops: .436', 'caughtStealing: 0', 'stolenBases: 1', 'stolenBasePercentage: 1.000', 'groundIntoDoublePlay: 1', 'numberOfPitches: 182', 'era: 0.00', 'inningsPitched: 12.0', 'wins: 2', 'losses: 0', 'saves: 0', 'saveOpportunities: 0', 'holds: 0', 'blownSaves: 0', 'earnedRuns: 0', 'whip: 0.75', 'battersFaced: 45', 'outs: 36', 'gamesPitched: 2', 'completeGames: 0', 'shutouts: 0', 'strikes: 120', 'strikePercentage: .660', 'hitBatsmen: 1', 'balks: 0', 'wildPitches: 0', 'pickoffs: 0', 'totalBases: 9', 'groundOutsToAirouts: 2.00', 'winPercentage: 1.000', 'pitchesPerInning: 15.17', 'gamesFinished: 0', 'strikeoutWalkRatio: 8.50', 'strikeoutsPer9Inn: 12.75', 'walksPer9Inn: 1.50', 'hitsPer9Inn: 5.25', 'runsScoredPer9: 0.00', 'homeRunsPer9: 0.00', 'inheritedRunners: 0', 'inheritedRunnersScored: 0', 'catchersInterference: 0', 'sacBunts: 0', 'sacFlies: 0', '', '']\n"
     ]
    }
   ],
   "source": [
    "pitcher = statsapi.player_stats(next(x['id'] for x in statsapi.get('sports_players', {'season':2024})['people'] if x['fullName']=='Tanner Houck'), 'pitching')\n",
    "pitcher_split = pitcher.split(\"\\n\")\n",
    "\n",
    "stats_pattern = r\"(\\w+):\\s([^\\n]+)\"\n",
    "stats = re.findall(stats_pattern, pitcher)\n",
    "\n",
    "stats_dict = {stat[0]: stat[1] for stat in stats}\n",
    "\n",
    "print(pitcher)\n",
    "print(pitcher_split)\n"
   ]
  }
 ],
 "metadata": {
  "kernelspec": {
   "display_name": "cs482",
   "language": "python",
   "name": "python3"
  },
  "language_info": {
   "codemirror_mode": {
    "name": "ipython",
    "version": 3
   },
   "file_extension": ".py",
   "mimetype": "text/x-python",
   "name": "python",
   "nbconvert_exporter": "python",
   "pygments_lexer": "ipython3",
   "version": "3.12.2"
  }
 },
 "nbformat": 4,
 "nbformat_minor": 2
}
